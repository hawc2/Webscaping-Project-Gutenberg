{
 "cells": [
  {
   "cell_type": "code",
   "execution_count": 1,
   "metadata": {
    "collapsed": true
   },
   "outputs": [],
   "source": [
    "from urllib import urlretrieve\n",
    "from urllib2 import HTTPError, URLError, urlopen\n",
    "import re\n",
    "import urllib2\n",
    "from bs4 import BeautifulSoup\n",
    "from time import sleep\n",
    "import sys"
   ]
  },
  {
   "cell_type": "code",
   "execution_count": 2,
   "metadata": {
    "collapsed": true
   },
   "outputs": [],
   "source": [
    "start_url_base = \"https://www.gutenberg.org/wiki/Science_Fiction_by_Women_(Bookshelf)\"\n",
    "base_url = \"https://www.gutenberg.org\""
   ]
  },
  {
   "cell_type": "code",
   "execution_count": 3,
   "metadata": {
    "collapsed": true
   },
   "outputs": [],
   "source": [
    "def make_soup(url):\n",
    "    hdr = {\"User-Agent\": \"Mozilla/5.0\"}\n",
    "    return BeautifulSoup(urllib2.urlopen(urllib2.Request(url,headers=hdr)).read(),'lxml')"
   ]
  },
  {
   "cell_type": "code",
   "execution_count": 4,
   "metadata": {
    "collapsed": true
   },
   "outputs": [],
   "source": [
    "def get_book_links(url):\n",
    "    soup = make_soup(url)\n",
    "    atagbooks = soup.find_all(\"a\", attrs = {\"title\": re.compile(r'^ebook:')})\n",
    "    book_links = []\n",
    "    for element in atagbooks:\n",
    "        book_link = \"http:\" + element[\"href\"]\n",
    "        book_links.append(book_link)\n",
    "    return book_links        "
   ]
  },
  {
   "cell_type": "code",
   "execution_count": null,
   "metadata": {},
   "outputs": [],
   "source": [
    "### main() for downloading book in .txt\n",
    "## Change the path accordingly in the urlretrieve() function below\n",
    "\n",
    "for booklink in get_book_links(start_url_base):\n",
    "    print \"Processing %s\" %(booklink)\n",
    "    try:\n",
    "        soup = make_soup(booklink + '#download')\n",
    "    except HTTPError:\n",
    "        print \"Time out.\"\n",
    "        sleep(2.0)\n",
    "        soup = make_soup(booklink + '#download')\n",
    "    try:\n",
    "        txtlink = \"http:\" + soup.find(\"a\", {\"type\": re.compile(r\"^text/plain\")})['href']\n",
    "    except TypeError:\n",
    "        print \"Failed to find the link for downloading %s\" %(booklink)\n",
    "        pass\n",
    "    soup2 = make_soup(booklink + '#bibrec')\n",
    "    foundth = soup2.find('th', string='Title')\n",
    "    title = foundth.next_sibling.next_sibling.get_text().strip()\n",
    "    try:\n",
    "        urlretrieve(txtlink, 'txt_scifibookshelf11072017/' + title)\n",
    "        print \"%s downloaded.\" %(booklink)\n",
    "    except:\n",
    "        print \"Failed to download %s\" %(booklink)\n",
    "        pass\n",
    "    sleep(0.1)"
   ]
  },
  {
   "cell_type": "code",
   "execution_count": null,
   "metadata": {
    "collapsed": true
   },
   "outputs": [],
   "source": []
  }
 ],
 "metadata": {
  "kernelspec": {
   "display_name": "Python 2",
   "language": "python",
   "name": "python2"
  },
  "language_info": {
   "codemirror_mode": {
    "name": "ipython",
    "version": 2
   },
   "file_extension": ".py",
   "mimetype": "text/x-python",
   "name": "python",
   "nbconvert_exporter": "python",
   "pygments_lexer": "ipython2",
   "version": "2.7.13"
  }
 },
 "nbformat": 4,
 "nbformat_minor": 2
}
