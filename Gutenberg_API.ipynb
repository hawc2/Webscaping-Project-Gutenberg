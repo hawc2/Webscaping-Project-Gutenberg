{
  "nbformat": 4,
  "nbformat_minor": 0,
  "metadata": {
    "colab": {
      "name": "Gutenberg API.ipynb",
      "provenance": [],
      "collapsed_sections": [],
      "include_colab_link": true
    },
    "kernelspec": {
      "display_name": "Python 3",
      "name": "python3"
    }
  },
  "cells": [
    {
      "cell_type": "markdown",
      "metadata": {
        "id": "view-in-github",
        "colab_type": "text"
      },
      "source": [
        "<a href=\"https://colab.research.google.com/github/hawc2/Webscraping-Project-Gutenberg/blob/master/Gutenberg_API.ipynb\" target=\"_parent\"><img src=\"https://colab.research.google.com/assets/colab-badge.svg\" alt=\"Open In Colab\"/></a>"
      ]
    },
    {
      "cell_type": "markdown",
      "metadata": {
        "id": "Ezs72CzTRRMu"
      },
      "source": [
        "# Gutenberg API\n",
        "\n",
        "Gutenberg PyPl: https://github.com/ageitgey/Gutenberg\n",
        "-This Python script for querying the Gutenberg API is working.\n",
        "\n",
        "Gutenberg-HTTP: https://github.com/c-w/gutenberg-http/\n",
        "- This is a Flask app, actually, and it's possible we could fork it for our own web app. But I imagine we're better off using the PyPl Gutenberg and adapting it to our own Flask app\n"
      ]
    },
    {
      "cell_type": "markdown",
      "metadata": {
        "id": "b0n0xDEcR47-"
      },
      "source": [
        "# Installing Libraries"
      ]
    },
    {
      "cell_type": "code",
      "metadata": {
        "colab": {
          "base_uri": "https://localhost:8080/"
        },
        "id": "x3feKjZXSEaJ",
        "outputId": "1ebcf70d-b1eb-4746-ceba-ff6960b727db"
      },
      "source": [
        "!git clone https://github.com/c-w/Gutenberg.git\n",
        "%cd Gutenberg"
      ],
      "execution_count": null,
      "outputs": [
        {
          "output_type": "stream",
          "text": [
            "Cloning into 'Gutenberg'...\n",
            "remote: Enumerating objects: 35, done.\u001b[K\n",
            "remote: Counting objects: 100% (35/35), done.\u001b[K\n",
            "remote: Compressing objects: 100% (29/29), done.\u001b[K\n",
            "remote: Total 2420 (delta 17), reused 12 (delta 5), pack-reused 2385\u001b[K\n",
            "Receiving objects: 100% (2420/2420), 5.98 MiB | 2.25 MiB/s, done.\n",
            "Resolving deltas: 100% (1548/1548), done.\n",
            "/content/Gutenberg\n"
          ],
          "name": "stdout"
        }
      ]
    },
    {
      "cell_type": "code",
      "metadata": {
        "colab": {
          "base_uri": "https://localhost:8080/"
        },
        "id": "OMil94SQUCCw",
        "outputId": "40fc32a0-5385-4986-c2e2-7ff0766d76a0"
      },
      "source": [
        "!sudo apt-get install python-virtualenv"
      ],
      "execution_count": null,
      "outputs": [
        {
          "output_type": "stream",
          "text": [
            "Reading package lists... Done\n",
            "Building dependency tree       \n",
            "Reading state information... Done\n",
            "The following additional packages will be installed:\n",
            "  python-pip-whl python-pkg-resources python3-pkg-resources python3-virtualenv\n",
            "  virtualenv\n",
            "Suggested packages:\n",
            "  python-setuptools python3-setuptools\n",
            "The following NEW packages will be installed:\n",
            "  python-pip-whl python-pkg-resources python-virtualenv python3-pkg-resources\n",
            "  python3-virtualenv virtualenv\n",
            "0 upgraded, 6 newly installed, 0 to remove and 15 not upgraded.\n",
            "Need to get 1,974 kB of archives.\n",
            "After this operation, 3,261 kB of additional disk space will be used.\n",
            "Get:1 http://archive.ubuntu.com/ubuntu bionic-updates/universe amd64 python-pip-whl all 9.0.1-2.3~ubuntu1.18.04.4 [1,653 kB]\n",
            "Get:2 http://archive.ubuntu.com/ubuntu bionic/main amd64 python-pkg-resources all 39.0.1-2 [128 kB]\n",
            "Get:3 http://archive.ubuntu.com/ubuntu bionic/universe amd64 python-virtualenv all 15.1.0+ds-1.1 [46.8 kB]\n",
            "Get:4 http://archive.ubuntu.com/ubuntu bionic/main amd64 python3-pkg-resources all 39.0.1-2 [98.8 kB]\n",
            "Get:5 http://archive.ubuntu.com/ubuntu bionic/universe amd64 python3-virtualenv all 15.1.0+ds-1.1 [43.4 kB]\n",
            "Get:6 http://archive.ubuntu.com/ubuntu bionic/universe amd64 virtualenv all 15.1.0+ds-1.1 [4,476 B]\n",
            "Fetched 1,974 kB in 0s (13.5 MB/s)\n",
            "debconf: unable to initialize frontend: Dialog\n",
            "debconf: (No usable dialog-like program is installed, so the dialog based frontend cannot be used. at /usr/share/perl5/Debconf/FrontEnd/Dialog.pm line 76, <> line 6.)\n",
            "debconf: falling back to frontend: Readline\n",
            "debconf: unable to initialize frontend: Readline\n",
            "debconf: (This frontend requires a controlling tty.)\n",
            "debconf: falling back to frontend: Teletype\n",
            "dpkg-preconfigure: unable to re-open stdin: \n",
            "Selecting previously unselected package python-pip-whl.\n",
            "(Reading database ... 146442 files and directories currently installed.)\n",
            "Preparing to unpack .../0-python-pip-whl_9.0.1-2.3~ubuntu1.18.04.4_all.deb ...\n",
            "Unpacking python-pip-whl (9.0.1-2.3~ubuntu1.18.04.4) ...\n",
            "Selecting previously unselected package python-pkg-resources.\n",
            "Preparing to unpack .../1-python-pkg-resources_39.0.1-2_all.deb ...\n",
            "Unpacking python-pkg-resources (39.0.1-2) ...\n",
            "Selecting previously unselected package python-virtualenv.\n",
            "Preparing to unpack .../2-python-virtualenv_15.1.0+ds-1.1_all.deb ...\n",
            "Unpacking python-virtualenv (15.1.0+ds-1.1) ...\n",
            "Selecting previously unselected package python3-pkg-resources.\n",
            "Preparing to unpack .../3-python3-pkg-resources_39.0.1-2_all.deb ...\n",
            "Unpacking python3-pkg-resources (39.0.1-2) ...\n",
            "Selecting previously unselected package python3-virtualenv.\n",
            "Preparing to unpack .../4-python3-virtualenv_15.1.0+ds-1.1_all.deb ...\n",
            "Unpacking python3-virtualenv (15.1.0+ds-1.1) ...\n",
            "Selecting previously unselected package virtualenv.\n",
            "Preparing to unpack .../5-virtualenv_15.1.0+ds-1.1_all.deb ...\n",
            "Unpacking virtualenv (15.1.0+ds-1.1) ...\n",
            "Setting up python-pip-whl (9.0.1-2.3~ubuntu1.18.04.4) ...\n",
            "Setting up python3-pkg-resources (39.0.1-2) ...\n",
            "Setting up python-pkg-resources (39.0.1-2) ...\n",
            "Setting up python3-virtualenv (15.1.0+ds-1.1) ...\n",
            "Setting up python-virtualenv (15.1.0+ds-1.1) ...\n",
            "Setting up virtualenv (15.1.0+ds-1.1) ...\n",
            "Processing triggers for man-db (2.8.3-2ubuntu0.1) ...\n"
          ],
          "name": "stdout"
        }
      ]
    },
    {
      "cell_type": "code",
      "metadata": {
        "colab": {
          "base_uri": "https://localhost:8080/"
        },
        "id": "xgK53f3sS-cg",
        "outputId": "b325b477-40ff-49c8-de92-8fee3e9d8d3a"
      },
      "source": [
        "!virtualenv --no-site-packages virtualenv\n",
        "!source virtualenv/bin/activate"
      ],
      "execution_count": null,
      "outputs": [
        {
          "output_type": "stream",
          "text": [
            "Running virtualenv with interpreter /usr/bin/python2\n",
            "New python executable in /content/Gutenberg/virtualenv/bin/python2\n",
            "Also creating executable in /content/Gutenberg/virtualenv/bin/python\n",
            "Installing setuptools, pkg_resources, pip, wheel...done.\n"
          ],
          "name": "stdout"
        }
      ]
    },
    {
      "cell_type": "code",
      "metadata": {
        "colab": {
          "base_uri": "https://localhost:8080/"
        },
        "id": "voKPXYjPV4Er",
        "outputId": "09c823ad-fe02-4e45-9b42-ffc2d4bae0b5"
      },
      "source": [
        "YES_I_HAVE_THE_RIGHT_TO_USE_THIS_BERKELEY_DB_VERSION=1\n",
        "!sudo apt-get install -y python3-bsddb3 \n",
        "!sudo apt-get install libdb++-dev\n",
        "!export BERKELEYDB_DIR=/usr\n",
        "!pip install ."
      ],
      "execution_count": null,
      "outputs": [
        {
          "output_type": "stream",
          "text": [
            "Reading package lists... Done\n",
            "Building dependency tree       \n",
            "Reading state information... Done\n",
            "Suggested packages:\n",
            "  python3-bsddb3-dbg\n",
            "The following NEW packages will be installed:\n",
            "  python3-bsddb3\n",
            "0 upgraded, 1 newly installed, 0 to remove and 15 not upgraded.\n",
            "Need to get 97.8 kB of archives.\n",
            "After this operation, 581 kB of additional disk space will be used.\n",
            "Get:1 http://archive.ubuntu.com/ubuntu bionic/main amd64 python3-bsddb3 amd64 6.1.0-1build4 [97.8 kB]\n",
            "Fetched 97.8 kB in 0s (1,759 kB/s)\n",
            "debconf: unable to initialize frontend: Dialog\n",
            "debconf: (No usable dialog-like program is installed, so the dialog based frontend cannot be used. at /usr/share/perl5/Debconf/FrontEnd/Dialog.pm line 76, <> line 1.)\n",
            "debconf: falling back to frontend: Readline\n",
            "debconf: unable to initialize frontend: Readline\n",
            "debconf: (This frontend requires a controlling tty.)\n",
            "debconf: falling back to frontend: Teletype\n",
            "dpkg-preconfigure: unable to re-open stdin: \n",
            "Selecting previously unselected package python3-bsddb3.\n",
            "(Reading database ... 146543 files and directories currently installed.)\n",
            "Preparing to unpack .../python3-bsddb3_6.1.0-1build4_amd64.deb ...\n",
            "Unpacking python3-bsddb3 (6.1.0-1build4) ...\n",
            "Setting up python3-bsddb3 (6.1.0-1build4) ...\n",
            "Reading package lists... Done\n",
            "Building dependency tree       \n",
            "Reading state information... Done\n",
            "The following additional packages will be installed:\n",
            "  libdb5.3++ libdb5.3++-dev libdb5.3-dev\n",
            "Suggested packages:\n",
            "  db5.3-doc\n",
            "The following NEW packages will be installed:\n",
            "  libdb++-dev libdb5.3++ libdb5.3++-dev libdb5.3-dev\n",
            "0 upgraded, 4 newly installed, 0 to remove and 15 not upgraded.\n",
            "Need to get 2,245 kB of archives.\n",
            "After this operation, 8,395 kB of additional disk space will be used.\n",
            "Get:1 http://archive.ubuntu.com/ubuntu bionic-updates/main amd64 libdb5.3++ amd64 5.3.28-13.1ubuntu1.1 [703 kB]\n",
            "Get:2 http://archive.ubuntu.com/ubuntu bionic-updates/main amd64 libdb5.3-dev amd64 5.3.28-13.1ubuntu1.1 [762 kB]\n",
            "Get:3 http://archive.ubuntu.com/ubuntu bionic-updates/main amd64 libdb5.3++-dev amd64 5.3.28-13.1ubuntu1.1 [778 kB]\n",
            "Get:4 http://archive.ubuntu.com/ubuntu bionic/main amd64 libdb++-dev amd64 1:5.3.21~exp1ubuntu2 [2,340 B]\n",
            "Fetched 2,245 kB in 0s (19.0 MB/s)\n",
            "debconf: unable to initialize frontend: Dialog\n",
            "debconf: (No usable dialog-like program is installed, so the dialog based frontend cannot be used. at /usr/share/perl5/Debconf/FrontEnd/Dialog.pm line 76, <> line 4.)\n",
            "debconf: falling back to frontend: Readline\n",
            "debconf: unable to initialize frontend: Readline\n",
            "debconf: (This frontend requires a controlling tty.)\n",
            "debconf: falling back to frontend: Teletype\n",
            "dpkg-preconfigure: unable to re-open stdin: \n",
            "Selecting previously unselected package libdb5.3++:amd64.\n",
            "(Reading database ... 146584 files and directories currently installed.)\n",
            "Preparing to unpack .../libdb5.3++_5.3.28-13.1ubuntu1.1_amd64.deb ...\n",
            "Unpacking libdb5.3++:amd64 (5.3.28-13.1ubuntu1.1) ...\n",
            "Selecting previously unselected package libdb5.3-dev.\n",
            "Preparing to unpack .../libdb5.3-dev_5.3.28-13.1ubuntu1.1_amd64.deb ...\n",
            "Unpacking libdb5.3-dev (5.3.28-13.1ubuntu1.1) ...\n",
            "Selecting previously unselected package libdb5.3++-dev.\n",
            "Preparing to unpack .../libdb5.3++-dev_5.3.28-13.1ubuntu1.1_amd64.deb ...\n",
            "Unpacking libdb5.3++-dev (5.3.28-13.1ubuntu1.1) ...\n",
            "Selecting previously unselected package libdb++-dev:amd64.\n",
            "Preparing to unpack .../libdb++-dev_1%3a5.3.21~exp1ubuntu2_amd64.deb ...\n",
            "Unpacking libdb++-dev:amd64 (1:5.3.21~exp1ubuntu2) ...\n",
            "Setting up libdb5.3-dev (5.3.28-13.1ubuntu1.1) ...\n",
            "Setting up libdb5.3++:amd64 (5.3.28-13.1ubuntu1.1) ...\n",
            "Setting up libdb5.3++-dev (5.3.28-13.1ubuntu1.1) ...\n",
            "Setting up libdb++-dev:amd64 (1:5.3.21~exp1ubuntu2) ...\n",
            "Processing triggers for libc-bin (2.27-3ubuntu1.3) ...\n",
            "/sbin/ldconfig.real: /usr/local/lib/python3.6/dist-packages/ideep4py/lib/libmkldnn.so.0 is not a symbolic link\n",
            "\n",
            "Processing /content/Gutenberg\n",
            "Collecting SPARQLWrapper>=1.8.2\n",
            "  Downloading https://files.pythonhosted.org/packages/00/9b/443fbe06996c080ee9c1f01b04e2f683b2b07e149905f33a2397ee3b80a2/SPARQLWrapper-1.8.5-py3-none-any.whl\n",
            "Requirement already satisfied: bsddb3>=6.1.0 in /usr/lib/python3/dist-packages (from Gutenberg==0.8.1) (6.1.0)\n",
            "Requirement already satisfied: future>=0.15.2 in /usr/local/lib/python3.6/dist-packages (from Gutenberg==0.8.1) (0.16.0)\n",
            "Collecting rdflib-sqlalchemy>=0.3.8\n",
            "  Downloading https://files.pythonhosted.org/packages/d3/27/598bc4e206399075bef5b055898dee5f35e9f4b1d8737c3fce2f3c4ee013/rdflib_sqlalchemy-0.4.0-py3-none-any.whl\n",
            "Collecting rdflib<5.0.0,>=4.2.0\n",
            "\u001b[?25l  Downloading https://files.pythonhosted.org/packages/3c/fe/630bacb652680f6d481b9febbb3e2c3869194a1a5fc3401a4a41195a2f8f/rdflib-4.2.2-py3-none-any.whl (344kB)\n",
            "\u001b[K     |████████████████████████████████| 348kB 18.3MB/s \n",
            "\u001b[?25hRequirement already satisfied: requests>=2.5.1 in /usr/local/lib/python3.6/dist-packages (from Gutenberg==0.8.1) (2.23.0)\n",
            "Requirement already satisfied: setuptools>=18.5 in /usr/local/lib/python3.6/dist-packages (from Gutenberg==0.8.1) (53.0.0)\n",
            "Requirement already satisfied: six>=1.10.0 in /usr/local/lib/python3.6/dist-packages (from Gutenberg==0.8.1) (1.15.0)\n",
            "Requirement already satisfied: SQLAlchemy>=1.1.4 in /usr/local/lib/python3.6/dist-packages (from rdflib-sqlalchemy>=0.3.8->Gutenberg==0.8.1) (1.3.23)\n",
            "Collecting alembic>=0.8.8\n",
            "\u001b[?25l  Downloading https://files.pythonhosted.org/packages/a9/53/daab5c96e22e9ed1c9f8ca4e3256e72213ade42d519b6254c32e59610967/alembic-1.5.4.tar.gz (1.1MB)\n",
            "\u001b[K     |████████████████████████████████| 1.1MB 37.2MB/s \n",
            "\u001b[?25hCollecting isodate\n",
            "\u001b[?25l  Downloading https://files.pythonhosted.org/packages/9b/9f/b36f7774ff5ea8e428fdcfc4bb332c39ee5b9362ddd3d40d9516a55221b2/isodate-0.6.0-py2.py3-none-any.whl (45kB)\n",
            "\u001b[K     |████████████████████████████████| 51kB 5.3MB/s \n",
            "\u001b[?25hRequirement already satisfied: pyparsing in /usr/local/lib/python3.6/dist-packages (from rdflib<5.0.0,>=4.2.0->Gutenberg==0.8.1) (2.4.7)\n",
            "Requirement already satisfied: urllib3!=1.25.0,!=1.25.1,<1.26,>=1.21.1 in /usr/local/lib/python3.6/dist-packages (from requests>=2.5.1->Gutenberg==0.8.1) (1.24.3)\n",
            "Requirement already satisfied: certifi>=2017.4.17 in /usr/local/lib/python3.6/dist-packages (from requests>=2.5.1->Gutenberg==0.8.1) (2020.12.5)\n",
            "Requirement already satisfied: idna<3,>=2.5 in /usr/local/lib/python3.6/dist-packages (from requests>=2.5.1->Gutenberg==0.8.1) (2.10)\n",
            "Requirement already satisfied: chardet<4,>=3.0.2 in /usr/local/lib/python3.6/dist-packages (from requests>=2.5.1->Gutenberg==0.8.1) (3.0.4)\n",
            "Collecting Mako\n",
            "\u001b[?25l  Downloading https://files.pythonhosted.org/packages/5c/db/2d2d88b924aa4674a080aae83b59ea19d593250bfe5ed789947c21736785/Mako-1.1.4.tar.gz (479kB)\n",
            "\u001b[K     |████████████████████████████████| 481kB 45.6MB/s \n",
            "\u001b[?25hCollecting python-editor>=0.3\n",
            "  Downloading https://files.pythonhosted.org/packages/c6/d3/201fc3abe391bbae6606e6f1d598c15d367033332bd54352b12f35513717/python_editor-1.0.4-py3-none-any.whl\n",
            "Requirement already satisfied: python-dateutil in /usr/local/lib/python3.6/dist-packages (from alembic>=0.8.8->rdflib-sqlalchemy>=0.3.8->Gutenberg==0.8.1) (2.8.1)\n",
            "Requirement already satisfied: MarkupSafe>=0.9.2 in /usr/local/lib/python3.6/dist-packages (from Mako->alembic>=0.8.8->rdflib-sqlalchemy>=0.3.8->Gutenberg==0.8.1) (1.1.1)\n",
            "Building wheels for collected packages: Gutenberg, alembic, Mako\n",
            "  Building wheel for Gutenberg (setup.py) ... \u001b[?25l\u001b[?25hdone\n",
            "  Created wheel for Gutenberg: filename=Gutenberg-0.8.1-cp36-none-any.whl size=26490 sha256=0de66f2271918cceced36e117bcccf2c5d732819e2ec5cefaad5739ee2b5eb3c\n",
            "  Stored in directory: /tmp/pip-ephem-wheel-cache-ki_0b5c5/wheels/a6/bb/7e/2beb48e3bec826e0278109e548ddd807fe6972d2c4626bdd4f\n",
            "  Building wheel for alembic (setup.py) ... \u001b[?25l\u001b[?25hdone\n",
            "  Created wheel for alembic: filename=alembic-1.5.4-py2.py3-none-any.whl size=156314 sha256=080c55cbf6ba67dc7af914f389c9d317a10ec67bccce31739a9692f6106959e9\n",
            "  Stored in directory: /root/.cache/pip/wheels/fd/2d/ec/5a1b1e2363ed68392d292d215facf588d5448198edd8078bc1\n",
            "  Building wheel for Mako (setup.py) ... \u001b[?25l\u001b[?25hdone\n",
            "  Created wheel for Mako: filename=Mako-1.1.4-py2.py3-none-any.whl size=75675 sha256=8d842506ceba38deaf08ce220962ecb4f6d39d9b526a6ed26017fa5659688604\n",
            "  Stored in directory: /root/.cache/pip/wheels/ad/10/d3/aeb26e20d19045e2a68e5d3cbb57432e11b5d9c92c99f98d47\n",
            "Successfully built Gutenberg alembic Mako\n",
            "Installing collected packages: isodate, rdflib, SPARQLWrapper, Mako, python-editor, alembic, rdflib-sqlalchemy, Gutenberg\n",
            "Successfully installed Gutenberg-0.8.1 Mako-1.1.4 SPARQLWrapper-1.8.5 alembic-1.5.4 isodate-0.6.0 python-editor-1.0.4 rdflib-4.2.2 rdflib-sqlalchemy-0.4.0\n"
          ],
          "name": "stdout"
        }
      ]
    },
    {
      "cell_type": "code",
      "metadata": {
        "colab": {
          "base_uri": "https://localhost:8080/"
        },
        "id": "Y_D4i45DS_xw",
        "outputId": "7019529d-8b8f-40d4-cab8-cf5f7026a0d1"
      },
      "source": [
        "!pip3 install -r requirements-dev.pip\n",
        "!pip3 install .\n",
        "\n",
        "!pip3 install nose\n",
        "!nose2"
      ],
      "execution_count": null,
      "outputs": [
        {
          "output_type": "stream",
          "text": [
            "Requirement already satisfied: coverage in /usr/local/lib/python3.6/dist-packages (from -r requirements-dev.pip (line 1)) (3.7.1)\n",
            "Collecting flake8\n",
            "\u001b[?25l  Downloading https://files.pythonhosted.org/packages/d4/ca/3971802ee6251da1abead1a22831d7f4743781e2f743bd266bdd2f46c19b/flake8-3.8.4-py2.py3-none-any.whl (72kB)\n",
            "\u001b[K     |████████████████████████████████| 81kB 4.7MB/s \n",
            "\u001b[?25hCollecting nose2\n",
            "\u001b[?25l  Downloading https://files.pythonhosted.org/packages/95/cf/ea7c3991fbb76f55bc1110e0356ef8a29a8ca546e5899a529018c6715c03/nose2-0.10.0-py2.py3-none-any.whl (141kB)\n",
            "\u001b[K     |████████████████████████████████| 143kB 10.6MB/s \n",
            "\u001b[?25hCollecting responses\n",
            "  Downloading https://files.pythonhosted.org/packages/d5/71/4f04aed03ca35f2d02e1732ca6e996b2d7b40232fb7f1b58ff35f9a89b7b/responses-0.12.1-py2.py3-none-any.whl\n",
            "Collecting mccabe<0.7.0,>=0.6.0\n",
            "  Downloading https://files.pythonhosted.org/packages/87/89/479dc97e18549e21354893e4ee4ef36db1d237534982482c3681ee6e7b57/mccabe-0.6.1-py2.py3-none-any.whl\n",
            "Collecting pyflakes<2.3.0,>=2.2.0\n",
            "\u001b[?25l  Downloading https://files.pythonhosted.org/packages/69/5b/fd01b0c696f2f9a6d2c839883b642493b431f28fa32b29abc465ef675473/pyflakes-2.2.0-py2.py3-none-any.whl (66kB)\n",
            "\u001b[K     |████████████████████████████████| 71kB 5.3MB/s \n",
            "\u001b[?25hRequirement already satisfied: importlib-metadata; python_version < \"3.8\" in /usr/local/lib/python3.6/dist-packages (from flake8->-r requirements-dev.pip (line 2)) (3.4.0)\n",
            "Collecting pycodestyle<2.7.0,>=2.6.0a1\n",
            "\u001b[?25l  Downloading https://files.pythonhosted.org/packages/10/5b/88879fb861ab79aef45c7e199cae3ef7af487b5603dcb363517a50602dd7/pycodestyle-2.6.0-py2.py3-none-any.whl (41kB)\n",
            "\u001b[K     |████████████████████████████████| 51kB 5.7MB/s \n",
            "\u001b[?25hRequirement already satisfied: six>=1.7 in /usr/local/lib/python3.6/dist-packages (from nose2->-r requirements-dev.pip (line 3)) (1.15.0)\n",
            "Collecting urllib3>=1.25.10\n",
            "\u001b[?25l  Downloading https://files.pythonhosted.org/packages/23/fc/8a49991f7905261f9ca9df5aa9b58363c3c821ce3e7f671895442b7100f2/urllib3-1.26.3-py2.py3-none-any.whl (137kB)\n",
            "\u001b[K     |████████████████████████████████| 143kB 16.7MB/s \n",
            "\u001b[?25hRequirement already satisfied: requests>=2.0 in /usr/local/lib/python3.6/dist-packages (from responses->-r requirements-dev.pip (line 4)) (2.23.0)\n",
            "Requirement already satisfied: zipp>=0.5 in /usr/local/lib/python3.6/dist-packages (from importlib-metadata; python_version < \"3.8\"->flake8->-r requirements-dev.pip (line 2)) (3.4.0)\n",
            "Requirement already satisfied: typing-extensions>=3.6.4; python_version < \"3.8\" in /usr/local/lib/python3.6/dist-packages (from importlib-metadata; python_version < \"3.8\"->flake8->-r requirements-dev.pip (line 2)) (3.7.4.3)\n",
            "Requirement already satisfied: idna<3,>=2.5 in /usr/local/lib/python3.6/dist-packages (from requests>=2.0->responses->-r requirements-dev.pip (line 4)) (2.10)\n",
            "Requirement already satisfied: chardet<4,>=3.0.2 in /usr/local/lib/python3.6/dist-packages (from requests>=2.0->responses->-r requirements-dev.pip (line 4)) (3.0.4)\n",
            "Requirement already satisfied: certifi>=2017.4.17 in /usr/local/lib/python3.6/dist-packages (from requests>=2.0->responses->-r requirements-dev.pip (line 4)) (2020.12.5)\n",
            "\u001b[31mERROR: requests 2.23.0 has requirement urllib3!=1.25.0,!=1.25.1,<1.26,>=1.21.1, but you'll have urllib3 1.26.3 which is incompatible.\u001b[0m\n",
            "\u001b[31mERROR: datascience 0.10.6 has requirement folium==0.2.1, but you'll have folium 0.8.3 which is incompatible.\u001b[0m\n",
            "\u001b[31mERROR: nose2 0.10.0 has requirement coverage>=4.4.1, but you'll have coverage 3.7.1 which is incompatible.\u001b[0m\n",
            "Installing collected packages: mccabe, pyflakes, pycodestyle, flake8, nose2, urllib3, responses\n",
            "  Found existing installation: urllib3 1.24.3\n",
            "    Uninstalling urllib3-1.24.3:\n",
            "      Successfully uninstalled urllib3-1.24.3\n",
            "Successfully installed flake8-3.8.4 mccabe-0.6.1 nose2-0.10.0 pycodestyle-2.6.0 pyflakes-2.2.0 responses-0.12.1 urllib3-1.26.3\n",
            "Processing /content/Gutenberg\n",
            "Requirement already satisfied: SPARQLWrapper>=1.8.2 in /usr/local/lib/python3.6/dist-packages (from Gutenberg==0.8.1) (1.8.5)\n",
            "Requirement already satisfied: bsddb3>=6.1.0 in /usr/lib/python3/dist-packages (from Gutenberg==0.8.1) (6.1.0)\n",
            "Requirement already satisfied: future>=0.15.2 in /usr/local/lib/python3.6/dist-packages (from Gutenberg==0.8.1) (0.16.0)\n",
            "Requirement already satisfied: rdflib-sqlalchemy>=0.3.8 in /usr/local/lib/python3.6/dist-packages (from Gutenberg==0.8.1) (0.4.0)\n",
            "Requirement already satisfied: rdflib<5.0.0,>=4.2.0 in /usr/local/lib/python3.6/dist-packages (from Gutenberg==0.8.1) (4.2.2)\n",
            "Requirement already satisfied: requests>=2.5.1 in /usr/local/lib/python3.6/dist-packages (from Gutenberg==0.8.1) (2.23.0)\n",
            "Requirement already satisfied: setuptools>=18.5 in /usr/local/lib/python3.6/dist-packages (from Gutenberg==0.8.1) (53.0.0)\n",
            "Requirement already satisfied: six>=1.10.0 in /usr/local/lib/python3.6/dist-packages (from Gutenberg==0.8.1) (1.15.0)\n",
            "Requirement already satisfied: SQLAlchemy>=1.1.4 in /usr/local/lib/python3.6/dist-packages (from rdflib-sqlalchemy>=0.3.8->Gutenberg==0.8.1) (1.3.23)\n",
            "Requirement already satisfied: alembic>=0.8.8 in /usr/local/lib/python3.6/dist-packages (from rdflib-sqlalchemy>=0.3.8->Gutenberg==0.8.1) (1.5.4)\n",
            "Requirement already satisfied: isodate in /usr/local/lib/python3.6/dist-packages (from rdflib<5.0.0,>=4.2.0->Gutenberg==0.8.1) (0.6.0)\n",
            "Requirement already satisfied: pyparsing in /usr/local/lib/python3.6/dist-packages (from rdflib<5.0.0,>=4.2.0->Gutenberg==0.8.1) (2.4.7)\n",
            "Requirement already satisfied: idna<3,>=2.5 in /usr/local/lib/python3.6/dist-packages (from requests>=2.5.1->Gutenberg==0.8.1) (2.10)\n",
            "Collecting urllib3!=1.25.0,!=1.25.1,<1.26,>=1.21.1\n",
            "\u001b[?25l  Downloading https://files.pythonhosted.org/packages/56/aa/4ef5aa67a9a62505db124a5cb5262332d1d4153462eb8fd89c9fa41e5d92/urllib3-1.25.11-py2.py3-none-any.whl (127kB)\n",
            "\u001b[K     |████████████████████████████████| 133kB 12.1MB/s \n",
            "\u001b[?25hRequirement already satisfied: certifi>=2017.4.17 in /usr/local/lib/python3.6/dist-packages (from requests>=2.5.1->Gutenberg==0.8.1) (2020.12.5)\n",
            "Requirement already satisfied: chardet<4,>=3.0.2 in /usr/local/lib/python3.6/dist-packages (from requests>=2.5.1->Gutenberg==0.8.1) (3.0.4)\n",
            "Requirement already satisfied: Mako in /usr/local/lib/python3.6/dist-packages (from alembic>=0.8.8->rdflib-sqlalchemy>=0.3.8->Gutenberg==0.8.1) (1.1.4)\n",
            "Requirement already satisfied: python-dateutil in /usr/local/lib/python3.6/dist-packages (from alembic>=0.8.8->rdflib-sqlalchemy>=0.3.8->Gutenberg==0.8.1) (2.8.1)\n",
            "Requirement already satisfied: python-editor>=0.3 in /usr/local/lib/python3.6/dist-packages (from alembic>=0.8.8->rdflib-sqlalchemy>=0.3.8->Gutenberg==0.8.1) (1.0.4)\n",
            "Requirement already satisfied: MarkupSafe>=0.9.2 in /usr/local/lib/python3.6/dist-packages (from Mako->alembic>=0.8.8->rdflib-sqlalchemy>=0.3.8->Gutenberg==0.8.1) (1.1.1)\n",
            "Building wheels for collected packages: Gutenberg\n",
            "  Building wheel for Gutenberg (setup.py) ... \u001b[?25l\u001b[?25hdone\n",
            "  Created wheel for Gutenberg: filename=Gutenberg-0.8.1-cp36-none-any.whl size=26490 sha256=5d63980d79604057e7f3c2af2b2c2d75df7c06fb9717a75e9463838bd9fae1d4\n",
            "  Stored in directory: /tmp/pip-ephem-wheel-cache-984lbflj/wheels/a6/bb/7e/2beb48e3bec826e0278109e548ddd807fe6972d2c4626bdd4f\n",
            "Successfully built Gutenberg\n",
            "\u001b[31mERROR: datascience 0.10.6 has requirement folium==0.2.1, but you'll have folium 0.8.3 which is incompatible.\u001b[0m\n",
            "Installing collected packages: Gutenberg, urllib3\n",
            "  Found existing installation: Gutenberg 0.8.1\n",
            "    Uninstalling Gutenberg-0.8.1:\n",
            "      Successfully uninstalled Gutenberg-0.8.1\n",
            "  Found existing installation: urllib3 1.26.3\n",
            "    Uninstalling urllib3-1.26.3:\n",
            "      Successfully uninstalled urllib3-1.26.3\n",
            "Successfully installed Gutenberg-0.8.1 urllib3-1.25.11\n",
            "Collecting nose\n",
            "\u001b[?25l  Downloading https://files.pythonhosted.org/packages/15/d8/dd071918c040f50fa1cf80da16423af51ff8ce4a0f2399b7bf8de45ac3d9/nose-1.3.7-py3-none-any.whl (154kB)\n",
            "\u001b[K     |████████████████████████████████| 163kB 11.7MB/s \n",
            "\u001b[?25hInstalling collected packages: nose\n",
            "Successfully installed nose-1.3.7\n",
            ".......Es.ssssssss............CRITICAL:rdflib_sqlalchemy.store:create_all() - table kb_50034ba4e5_asserted_statements is not known\n",
            ".CRITICAL:rdflib_sqlalchemy.store:create_all() - table kb_50034ba4e5_asserted_statements is not known\n",
            "..........................\n",
            "======================================================================\n",
            "ERROR: test_load_etext (tests.test_acquire.TestLoadEtext)\n",
            "----------------------------------------------------------------------\n",
            "Traceback (most recent call last):\n",
            "  File \"/content/Gutenberg/tests/test_acquire.py\", line 49, in test_load_etext\n",
            "    etext = loader(testcase.etextno)\n",
            "  File \"/content/Gutenberg/tests/test_acquire.py\", line 40, in <lambda>\n",
            "    loaders = (lambda etextno: load_etext(etextno, refresh_cache=True),\n",
            "  File \"/content/Gutenberg/gutenberg/acquire/text.py\", line 135, in load_etext\n",
            "    download_uri = _format_download_uri(etextno, mirror, prefer_ascii)\n",
            "  File \"/content/Gutenberg/gutenberg/acquire/text.py\", line 119, in _format_download_uri\n",
            "    .format(etextno, mirror))\n",
            "gutenberg._domain_model.exceptions.UnknownDownloadUriException: Failed to find a textual download candidate for 2701 on http://aleph.gutenberg.org. Either the book does not exist or it is only available in non-textual formats.\n",
            "\n",
            "----------------------------------------------------------------------\n",
            "Ran 57 tests in 158.119s\n",
            "\n",
            "FAILED (errors=1, skipped=9)\n"
          ],
          "name": "stdout"
        }
      ]
    },
    {
      "cell_type": "markdown",
      "metadata": {
        "id": "DWmlNNFTVn8C"
      },
      "source": [
        "# Test Query\n",
        "\n",
        "Without setting Gutenberg mirror, I got this message:\n",
        "UnknownDownloadUriException: Could not reach Gutenberg mirror \"http://aleph.gutenberg.org\". Try setting a different mirror (https://www.gutenberg.org/MIRRORS.ALL) for --mirror flag or GUTENBERG_MIRROR environment variable.\n",
        "\n",
        "Ideally set the alternate mirror permanently so it doesn't need to be a paremeter in query request\n",
        "\n",
        "This works: https://gutenberg.pglaf.org/"
      ]
    },
    {
      "cell_type": "code",
      "metadata": {
        "id": "fSW4DZIKVnQ7"
      },
      "source": [
        "#THIS WORKS!\n",
        "from gutenberg.acquire import load_etext\n",
        "from gutenberg.cleanup import strip_headers\n",
        "\n",
        "text = strip_headers(load_etext(2701, mirror = \"https://gutenberg.pglaf.org/\")).strip()\n",
        "print(text)  # prints 'MOBY DICK; OR THE WHALE\\n\\nBy Herman Melville ...'"
      ],
      "execution_count": null,
      "outputs": []
    },
    {
      "cell_type": "code",
      "metadata": {
        "id": "A-84XIpfWmy2"
      },
      "source": [
        "# this produces an error - see this issue and below comment on Cache\n",
        "#https://github.com/c-w/gutenberg/issues/112\n",
        "\n",
        "from gutenberg.query import get_etexts\n",
        "from gutenberg.query import get_metadata\n",
        "\n",
        "print(get_metadata('title', 2701))  # prints frozenset([u'Moby Dick; Or, The Whale'])\n",
        "print(get_metadata('author', 2701)) # prints frozenset([u'Melville, Hermann'])\n",
        "\n",
        "print(get_etexts('title', 'Moby Dick; Or, The Whale'))  # prints frozenset([2701, ...])\n",
        "print(get_etexts('author', 'Melville, Hermann'))        # prints frozenset([2701, ...])"
      ],
      "execution_count": null,
      "outputs": []
    },
    {
      "cell_type": "markdown",
      "metadata": {
        "id": "CTEry0-NZD2z"
      },
      "source": [
        "# Cache Setting\n",
        "\n",
        "I'm confused when we need to do this. The line of code immediately above this comment gets an eror: \"The cache is invalid or not created\"\n",
        "\n",
        "The developer claims: \"# Before you use one of the gutenberg.query functions you must populate the local metadata cache. This one-off process will take quite a while to complete (18 hours on my machine) but once it is done, any subsequent calls to get_etexts or get_metadata will be very fast. If you fail to populate the cache, the calls will raise an exception.\""
      ]
    },
    {
      "cell_type": "code",
      "metadata": {
        "colab": {
          "background_save": true
        },
        "id": "DBGBC6LYZDQM",
        "outputId": "223e59f6-ecca-495f-8fb0-49af51e53d19"
      },
      "source": [
        "#To populate the cache:\n",
        "\n",
        "from gutenberg.acquire import get_metadata_cache\n",
        "cache = get_metadata_cache()\n",
        "cache.populate()"
      ],
      "execution_count": null,
      "outputs": [
        {
          "output_type": "error",
          "ename": "KeyboardInterrupt",
          "evalue": "ignored",
          "traceback": [
            "\u001b[0;31m---------------------------------------------------------------------------\u001b[0m",
            "\u001b[0;31mKeyboardInterrupt\u001b[0m                         Traceback (most recent call last)",
            "\u001b[0;32m<ipython-input-6-da3b4e8554e9>\u001b[0m in \u001b[0;36m<module>\u001b[0;34m()\u001b[0m\n\u001b[1;32m      3\u001b[0m \u001b[0;32mfrom\u001b[0m \u001b[0mgutenberg\u001b[0m\u001b[0;34m.\u001b[0m\u001b[0macquire\u001b[0m \u001b[0;32mimport\u001b[0m \u001b[0mget_metadata_cache\u001b[0m\u001b[0;34m\u001b[0m\u001b[0;34m\u001b[0m\u001b[0m\n\u001b[1;32m      4\u001b[0m \u001b[0mcache\u001b[0m \u001b[0;34m=\u001b[0m \u001b[0mget_metadata_cache\u001b[0m\u001b[0;34m(\u001b[0m\u001b[0;34m)\u001b[0m\u001b[0;34m\u001b[0m\u001b[0;34m\u001b[0m\u001b[0m\n\u001b[0;32m----> 5\u001b[0;31m \u001b[0mcache\u001b[0m\u001b[0;34m.\u001b[0m\u001b[0mpopulate\u001b[0m\u001b[0;34m(\u001b[0m\u001b[0;34m)\u001b[0m\u001b[0;34m\u001b[0m\u001b[0;34m\u001b[0m\u001b[0m\n\u001b[0m",
            "\u001b[0;32m/content/Gutenberg/gutenberg/acquire/metadata.py\u001b[0m in \u001b[0;36mpopulate\u001b[0;34m(self)\u001b[0m\n\u001b[1;32m     96\u001b[0m             \u001b[0;32mwith\u001b[0m \u001b[0mself\u001b[0m\u001b[0;34m.\u001b[0m\u001b[0m_download_metadata_archive\u001b[0m\u001b[0;34m(\u001b[0m\u001b[0;34m)\u001b[0m \u001b[0;32mas\u001b[0m \u001b[0mmetadata_archive\u001b[0m\u001b[0;34m:\u001b[0m\u001b[0;34m\u001b[0m\u001b[0;34m\u001b[0m\u001b[0m\n\u001b[1;32m     97\u001b[0m                 \u001b[0;32mfor\u001b[0m \u001b[0mfact\u001b[0m \u001b[0;32min\u001b[0m \u001b[0mself\u001b[0m\u001b[0;34m.\u001b[0m\u001b[0m_iter_metadata_triples\u001b[0m\u001b[0;34m(\u001b[0m\u001b[0mmetadata_archive\u001b[0m\u001b[0;34m)\u001b[0m\u001b[0;34m:\u001b[0m\u001b[0;34m\u001b[0m\u001b[0;34m\u001b[0m\u001b[0m\n\u001b[0;32m---> 98\u001b[0;31m                     \u001b[0mself\u001b[0m\u001b[0;34m.\u001b[0m\u001b[0m_add_to_graph\u001b[0m\u001b[0;34m(\u001b[0m\u001b[0mfact\u001b[0m\u001b[0;34m)\u001b[0m\u001b[0;34m\u001b[0m\u001b[0;34m\u001b[0m\u001b[0m\n\u001b[0m\u001b[1;32m     99\u001b[0m \u001b[0;34m\u001b[0m\u001b[0m\n\u001b[1;32m    100\u001b[0m     \u001b[0;32mdef\u001b[0m \u001b[0m_add_to_graph\u001b[0m\u001b[0;34m(\u001b[0m\u001b[0mself\u001b[0m\u001b[0;34m,\u001b[0m \u001b[0mfact\u001b[0m\u001b[0;34m)\u001b[0m\u001b[0;34m:\u001b[0m\u001b[0;34m\u001b[0m\u001b[0;34m\u001b[0m\u001b[0m\n",
            "\u001b[0;32m/content/Gutenberg/gutenberg/acquire/metadata.py\u001b[0m in \u001b[0;36m_add_to_graph\u001b[0;34m(self, fact)\u001b[0m\n\u001b[1;32m    102\u001b[0m \u001b[0;34m\u001b[0m\u001b[0m\n\u001b[1;32m    103\u001b[0m         \"\"\"\n\u001b[0;32m--> 104\u001b[0;31m         \u001b[0mself\u001b[0m\u001b[0;34m.\u001b[0m\u001b[0mgraph\u001b[0m\u001b[0;34m.\u001b[0m\u001b[0madd\u001b[0m\u001b[0;34m(\u001b[0m\u001b[0mfact\u001b[0m\u001b[0;34m)\u001b[0m\u001b[0;34m\u001b[0m\u001b[0;34m\u001b[0m\u001b[0m\n\u001b[0m\u001b[1;32m    105\u001b[0m \u001b[0;34m\u001b[0m\u001b[0m\n\u001b[1;32m    106\u001b[0m     \u001b[0;32mdef\u001b[0m \u001b[0m_populate_setup\u001b[0m\u001b[0;34m(\u001b[0m\u001b[0mself\u001b[0m\u001b[0;34m)\u001b[0m\u001b[0;34m:\u001b[0m\u001b[0;34m\u001b[0m\u001b[0;34m\u001b[0m\u001b[0m\n",
            "\u001b[0;32m/usr/local/lib/python3.6/dist-packages/rdflib/graph.py\u001b[0m in \u001b[0;36madd\u001b[0;34m(self, xxx_todo_changeme)\u001b[0m\n\u001b[1;32m    395\u001b[0m         \u001b[0;32massert\u001b[0m \u001b[0misinstance\u001b[0m\u001b[0;34m(\u001b[0m\u001b[0mo\u001b[0m\u001b[0;34m,\u001b[0m \u001b[0mNode\u001b[0m\u001b[0;34m)\u001b[0m\u001b[0;34m,\u001b[0m\u001b[0;31m \u001b[0m\u001b[0;31m\\\u001b[0m\u001b[0;34m\u001b[0m\u001b[0;34m\u001b[0m\u001b[0m\n\u001b[1;32m    396\u001b[0m             \u001b[0;34m\"Object %s must be an rdflib term\"\u001b[0m \u001b[0;34m%\u001b[0m \u001b[0;34m(\u001b[0m\u001b[0mo\u001b[0m\u001b[0;34m,\u001b[0m\u001b[0;34m)\u001b[0m\u001b[0;34m\u001b[0m\u001b[0;34m\u001b[0m\u001b[0m\n\u001b[0;32m--> 397\u001b[0;31m         \u001b[0mself\u001b[0m\u001b[0;34m.\u001b[0m\u001b[0m__store\u001b[0m\u001b[0;34m.\u001b[0m\u001b[0madd\u001b[0m\u001b[0;34m(\u001b[0m\u001b[0;34m(\u001b[0m\u001b[0ms\u001b[0m\u001b[0;34m,\u001b[0m \u001b[0mp\u001b[0m\u001b[0;34m,\u001b[0m \u001b[0mo\u001b[0m\u001b[0;34m)\u001b[0m\u001b[0;34m,\u001b[0m \u001b[0mself\u001b[0m\u001b[0;34m,\u001b[0m \u001b[0mquoted\u001b[0m\u001b[0;34m=\u001b[0m\u001b[0;32mFalse\u001b[0m\u001b[0;34m)\u001b[0m\u001b[0;34m\u001b[0m\u001b[0;34m\u001b[0m\u001b[0m\n\u001b[0m\u001b[1;32m    398\u001b[0m \u001b[0;34m\u001b[0m\u001b[0m\n\u001b[1;32m    399\u001b[0m     \u001b[0;32mdef\u001b[0m \u001b[0maddN\u001b[0m\u001b[0;34m(\u001b[0m\u001b[0mself\u001b[0m\u001b[0;34m,\u001b[0m \u001b[0mquads\u001b[0m\u001b[0;34m)\u001b[0m\u001b[0;34m:\u001b[0m\u001b[0;34m\u001b[0m\u001b[0;34m\u001b[0m\u001b[0m\n",
            "\u001b[0;32m/usr/local/lib/python3.6/dist-packages/rdflib/plugins/sleepycat.py\u001b[0m in \u001b[0;36madd\u001b[0;34m(self, triple, context, quoted, txn)\u001b[0m\n\u001b[1;32m    243\u001b[0m         \u001b[0m_to_string\u001b[0m \u001b[0;34m=\u001b[0m \u001b[0mself\u001b[0m\u001b[0;34m.\u001b[0m\u001b[0m_to_string\u001b[0m\u001b[0;34m\u001b[0m\u001b[0;34m\u001b[0m\u001b[0m\n\u001b[1;32m    244\u001b[0m \u001b[0;34m\u001b[0m\u001b[0m\n\u001b[0;32m--> 245\u001b[0;31m         \u001b[0ms\u001b[0m \u001b[0;34m=\u001b[0m \u001b[0m_to_string\u001b[0m\u001b[0;34m(\u001b[0m\u001b[0msubject\u001b[0m\u001b[0;34m,\u001b[0m \u001b[0mtxn\u001b[0m\u001b[0;34m=\u001b[0m\u001b[0mtxn\u001b[0m\u001b[0;34m)\u001b[0m\u001b[0;34m\u001b[0m\u001b[0;34m\u001b[0m\u001b[0m\n\u001b[0m\u001b[1;32m    246\u001b[0m         \u001b[0mp\u001b[0m \u001b[0;34m=\u001b[0m \u001b[0m_to_string\u001b[0m\u001b[0;34m(\u001b[0m\u001b[0mpredicate\u001b[0m\u001b[0;34m,\u001b[0m \u001b[0mtxn\u001b[0m\u001b[0;34m=\u001b[0m\u001b[0mtxn\u001b[0m\u001b[0;34m)\u001b[0m\u001b[0;34m\u001b[0m\u001b[0;34m\u001b[0m\u001b[0m\n\u001b[1;32m    247\u001b[0m         \u001b[0mo\u001b[0m \u001b[0;34m=\u001b[0m \u001b[0m_to_string\u001b[0m\u001b[0;34m(\u001b[0m\u001b[0mobject\u001b[0m\u001b[0;34m,\u001b[0m \u001b[0mtxn\u001b[0m\u001b[0;34m=\u001b[0m\u001b[0mtxn\u001b[0m\u001b[0;34m)\u001b[0m\u001b[0;34m\u001b[0m\u001b[0;34m\u001b[0m\u001b[0m\n",
            "\u001b[0;32m/usr/local/lib/python3.6/dist-packages/rdflib/plugins/sleepycat.py\u001b[0m in \u001b[0;36m_to_string\u001b[0;34m(self, term, txn)\u001b[0m\n\u001b[1;32m    512\u001b[0m     \u001b[0;32mdef\u001b[0m \u001b[0m_to_string\u001b[0m\u001b[0;34m(\u001b[0m\u001b[0mself\u001b[0m\u001b[0;34m,\u001b[0m \u001b[0mterm\u001b[0m\u001b[0;34m,\u001b[0m \u001b[0mtxn\u001b[0m\u001b[0;34m=\u001b[0m\u001b[0;32mNone\u001b[0m\u001b[0;34m)\u001b[0m\u001b[0;34m:\u001b[0m\u001b[0;34m\u001b[0m\u001b[0;34m\u001b[0m\u001b[0m\n\u001b[1;32m    513\u001b[0m         \u001b[0mk\u001b[0m \u001b[0;34m=\u001b[0m \u001b[0mself\u001b[0m\u001b[0;34m.\u001b[0m\u001b[0m_dumps\u001b[0m\u001b[0;34m(\u001b[0m\u001b[0mterm\u001b[0m\u001b[0;34m)\u001b[0m\u001b[0;34m\u001b[0m\u001b[0;34m\u001b[0m\u001b[0m\n\u001b[0;32m--> 514\u001b[0;31m         \u001b[0mi\u001b[0m \u001b[0;34m=\u001b[0m \u001b[0mself\u001b[0m\u001b[0;34m.\u001b[0m\u001b[0m__k2i\u001b[0m\u001b[0;34m.\u001b[0m\u001b[0mget\u001b[0m\u001b[0;34m(\u001b[0m\u001b[0mk\u001b[0m\u001b[0;34m,\u001b[0m \u001b[0mtxn\u001b[0m\u001b[0;34m=\u001b[0m\u001b[0mtxn\u001b[0m\u001b[0;34m)\u001b[0m\u001b[0;34m\u001b[0m\u001b[0;34m\u001b[0m\u001b[0m\n\u001b[0m\u001b[1;32m    515\u001b[0m         \u001b[0;32mif\u001b[0m \u001b[0mi\u001b[0m \u001b[0;32mis\u001b[0m \u001b[0;32mNone\u001b[0m\u001b[0;34m:\u001b[0m\u001b[0;34m\u001b[0m\u001b[0;34m\u001b[0m\u001b[0m\n\u001b[1;32m    516\u001b[0m             \u001b[0;31m# weird behavoir from bsddb not taking a txn as a keyword argument\u001b[0m\u001b[0;34m\u001b[0m\u001b[0;34m\u001b[0m\u001b[0;34m\u001b[0m\u001b[0m\n",
            "\u001b[0;31mKeyboardInterrupt\u001b[0m: "
          ]
        }
      ]
    },
    {
      "cell_type": "code",
      "metadata": {
        "id": "Fa35V2NkZOrO"
      },
      "source": [
        "#If you need more fine-grained control over the cache (e.g. where it’s stored or which backend is used), you can use the set_metadata_cache function to switch out the backend of the cache before you populate it. For example, to use the Sqlite cache backend instead of the default Sleepycat backend and store the cache at a custom location, you’d do the following:\n",
        "\n",
        "from gutenberg.acquire import set_metadata_cache\n",
        "from gutenberg.acquire.metadata import SqliteMetadataCache\n",
        "\n",
        "cache = SqliteMetadataCache('/my/custom/location/cache.sqlite')\n",
        "cache.populate()\n",
        "set_metadata_cache(cache)"
      ],
      "execution_count": null,
      "outputs": []
    },
    {
      "cell_type": "code",
      "metadata": {
        "id": "pYXVOHQwcUQM"
      },
      "source": [
        ""
      ],
      "execution_count": null,
      "outputs": []
    },
    {
      "cell_type": "code",
      "metadata": {
        "id": "Mj7E802qcUdL"
      },
      "source": [
        ""
      ],
      "execution_count": null,
      "outputs": []
    }
  ]
}