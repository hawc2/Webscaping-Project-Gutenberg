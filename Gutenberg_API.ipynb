{
  "nbformat": 4,
  "nbformat_minor": 0,
  "metadata": {
    "colab": {
      "name": "Gutenberg API.ipynb",
      "provenance": [],
      "toc_visible": true,
      "authorship_tag": "ABX9TyOMBs8UGhEGzQlk/5uOzmz6",
      "include_colab_link": true
    },
    "kernelspec": {
      "name": "python3",
      "display_name": "Python 3"
    }
  },
  "cells": [
    {
      "cell_type": "markdown",
      "metadata": {
        "id": "view-in-github",
        "colab_type": "text"
      },
      "source": [
        "<a href=\"https://colab.research.google.com/github/hawc2/Webscraping-Project-Gutenberg/blob/master/Gutenberg_API.ipynb\" target=\"_parent\"><img src=\"https://colab.research.google.com/assets/colab-badge.svg\" alt=\"Open In Colab\"/></a>"
      ]
    },
    {
      "cell_type": "markdown",
      "metadata": {
        "id": "Ezs72CzTRRMu"
      },
      "source": [
        "# Gutenberg API\n",
        "\n",
        "Two options\n",
        "\n",
        "1) https://github.com/ageitgey/Gutenberg\n",
        "\n",
        "I think I've got 1) working! Still has some things to fix thouhg\n",
        "\n",
        "\n",
        "2) Backup Option: https://github.com/c-w/gutenberg-http/\n",
        "\n"
      ]
    },
    {
      "cell_type": "markdown",
      "metadata": {
        "id": "b0n0xDEcR47-"
      },
      "source": [
        "# Installing Libraries"
      ]
    },
    {
      "cell_type": "code",
      "metadata": {
        "id": "x3feKjZXSEaJ"
      },
      "source": [
        "!git clone https://github.com/c-w/Gutenberg.git\n",
        "%cd Gutenberg"
      ],
      "execution_count": null,
      "outputs": []
    },
    {
      "cell_type": "code",
      "metadata": {
        "id": "OMil94SQUCCw"
      },
      "source": [
        "!sudo apt-get install python-virtualenv"
      ],
      "execution_count": null,
      "outputs": []
    },
    {
      "cell_type": "code",
      "metadata": {
        "id": "xgK53f3sS-cg"
      },
      "source": [
        "!virtualenv --no-site-packages virtualenv\n",
        "!source virtualenv/bin/activate"
      ],
      "execution_count": null,
      "outputs": []
    },
    {
      "cell_type": "code",
      "metadata": {
        "id": "voKPXYjPV4Er"
      },
      "source": [
        "YES_I_HAVE_THE_RIGHT_TO_USE_THIS_BERKELEY_DB_VERSION=1\n",
        "!sudo apt-get install -y python3-bsddb3 \n",
        "!sudo apt-get install libdb++-dev\n",
        "!export BERKELEYDB_DIR=/usr\n",
        "!pip install ."
      ],
      "execution_count": null,
      "outputs": []
    },
    {
      "cell_type": "code",
      "metadata": {
        "id": "Y_D4i45DS_xw"
      },
      "source": [
        "!pip3 install -r requirements-dev.pip\n",
        "!pip3 install .\n",
        "\n",
        "!pip3 install nose\n",
        "!nose2"
      ],
      "execution_count": null,
      "outputs": []
    },
    {
      "cell_type": "markdown",
      "metadata": {
        "id": "DWmlNNFTVn8C"
      },
      "source": [
        "# Test Query\n",
        "\n",
        "Without setting Gutenberg mirror, I got this message:\n",
        "UnknownDownloadUriException: Could not reach Gutenberg mirror \"http://aleph.gutenberg.org\". Try setting a different mirror (https://www.gutenberg.org/MIRRORS.ALL) for --mirror flag or GUTENBERG_MIRROR environment variable.\n",
        "\n",
        "Ideally set the alternate mirror permanently so it doesn't need to be a paremeter in query request\n",
        "\n",
        "This works: https://gutenberg.pglaf.org/"
      ]
    },
    {
      "cell_type": "code",
      "metadata": {
        "id": "fSW4DZIKVnQ7"
      },
      "source": [
        "#THIS WORKS!\n",
        "from gutenberg.acquire import load_etext\n",
        "from gutenberg.cleanup import strip_headers\n",
        "\n",
        "text = strip_headers(load_etext(2701, mirror = \"https://gutenberg.pglaf.org/\")).strip()\n",
        "print(text)  # prints 'MOBY DICK; OR THE WHALE\\n\\nBy Herman Melville ...'"
      ],
      "execution_count": null,
      "outputs": []
    },
    {
      "cell_type": "code",
      "metadata": {
        "id": "4-hcM5SYWjCQ"
      },
      "source": [
        "#translate from unix to python\n",
        "python -m gutenberg.acquire.text 2701 moby-raw.txt\n",
        "python -m gutenberg.cleanup.strip_headers moby-raw.txt moby-clean.txt"
      ],
      "execution_count": null,
      "outputs": []
    },
    {
      "cell_type": "code",
      "metadata": {
        "id": "A-84XIpfWmy2"
      },
      "source": [
        "from gutenberg.query import get_etexts\n",
        "from gutenberg.query import get_metadata\n",
        "\n",
        "print(get_metadata('title', 2701))  # prints frozenset([u'Moby Dick; Or, The Whale'])\n",
        "print(get_metadata('author', 2701)) # prints frozenset([u'Melville, Hermann'])\n",
        "\n",
        "print(get_etexts('title', 'Moby Dick; Or, The Whale'))  # prints frozenset([2701, ...])\n",
        "print(get_etexts('author', 'Melville, Hermann'))        # prints frozenset([2701, ...])"
      ],
      "execution_count": null,
      "outputs": []
    },
    {
      "cell_type": "markdown",
      "metadata": {
        "id": "CTEry0-NZD2z"
      },
      "source": [
        "# Cache\n",
        "\n",
        "I'm confused when we need to do this. The line of code immediately above this comment gets an eror: \"The cache is invalid or not created\"\n",
        "\n",
        "The developer claims: \"# Before you use one of the gutenberg.query functions you must populate the local metadata cache. This one-off process will take quite a while to complete (18 hours on my machine) but once it is done, any subsequent calls to get_etexts or get_metadata will be very fast. If you fail to populate the cache, the calls will raise an exception.\""
      ]
    },
    {
      "cell_type": "code",
      "metadata": {
        "id": "DBGBC6LYZDQM"
      },
      "source": [
        "#To populate the cache:\n",
        "\n",
        "from gutenberg.acquire import get_metadata_cache\n",
        "cache = get_metadata_cache()\n",
        "cache.populate()"
      ],
      "execution_count": null,
      "outputs": []
    },
    {
      "cell_type": "code",
      "metadata": {
        "id": "Fa35V2NkZOrO"
      },
      "source": [
        "#If you need more fine-grained control over the cache (e.g. where it’s stored or which backend is used), you can use the set_metadata_cache function to switch out the backend of the cache before you populate it. For example, to use the Sqlite cache backend instead of the default Sleepycat backend and store the cache at a custom location, you’d do the following:\n",
        "\n",
        "from gutenberg.acquire import set_metadata_cache\n",
        "from gutenberg.acquire.metadata import SqliteMetadataCache\n",
        "\n",
        "cache = SqliteMetadataCache('/my/custom/location/cache.sqlite')\n",
        "cache.populate()\n",
        "set_metadata_cache(cache)"
      ],
      "execution_count": null,
      "outputs": []
    }
  ]
}